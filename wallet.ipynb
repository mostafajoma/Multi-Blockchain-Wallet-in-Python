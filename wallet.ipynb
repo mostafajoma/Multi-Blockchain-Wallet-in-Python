{
 "cells": [
  {
   "cell_type": "code",
   "execution_count": 24,
   "metadata": {},
   "outputs": [
    {
     "data": {
      "text/plain": [
       "True"
      ]
     },
     "execution_count": 24,
     "metadata": {},
     "output_type": "execute_result"
    }
   ],
   "source": [
    "# import libraries\n",
    "import subprocess\n",
    "import json\n",
    "from constants import *\n",
    "import os\n",
    "from dotenv import load_dotenv\n",
    "from web3 import Web3\n",
    "from eth_account import Account\n",
    "from bit import PrivateKeyTestnet\n",
    "from bit.network import NetworkAPI\n",
    "from web3.middleware import geth_poa_middleware\n",
    "from web3.gas_strategies.time_based import medium_gas_price_strategy\n",
    "\n",
    "load_dotenv()"
   ]
  },
  {
   "cell_type": "code",
   "execution_count": 25,
   "metadata": {},
   "outputs": [],
   "source": [
    "# import mnemonic from env\n",
    "mnemonic = os.getenv('MNEMONIC')"
   ]
  },
  {
   "cell_type": "code",
   "execution_count": 26,
   "metadata": {},
   "outputs": [],
   "source": [
    "# connect to local ETH/ geth\n",
    "w3 = Web3(Web3.HTTPProvider('http://127.0.0.1:8545'))\n",
    "w3.middleware_onion.inject(geth_poa_middleware, layer=0)\n",
    "w3.eth.setGasPriceStrategy(medium_gas_price_strategy)\n"
   ]
  },
  {
   "cell_type": "code",
   "execution_count": 27,
   "metadata": {},
   "outputs": [],
   "source": [
    "# create a function for derive wallet\n",
    "def derive_wallets(mnemonic,coin,numderive):\n",
    "    command = f'./derive -g --mnemonic=\"{mnemonic}\" --col=path,address,privkey,pubkey,pubkeyhash, --coin=\"{coin}\" --numderive=\"{numderive}\" --format=json'\n",
    "    p = subprocess.Popen(command, stdout=subprocess.PIPE, shell=True)\n",
    "    (output, err) = p.communicate()\n",
    "    p_status = p.wait()\n",
    "\n",
    "    keys = json.loads(output)\n",
    "    return keys "
   ]
  },
  {
   "cell_type": "code",
   "execution_count": 28,
   "metadata": {},
   "outputs": [
    {
     "data": {
      "text/plain": [
       "[{'path': \"m/44'/60'/0'/0/0\",\n",
       "  'address': '0x6b5255EA1E97a2242F342a1961296f5119166346',\n",
       "  'xprv': 'xprvA4JJW9fuduL1a91oz5WHmd2uS5oag3HZC22dvZJewe8LNYsmY3fEXwFCW1HeXBTET4kE6pkS4R8ni5qMWtu1zafcPzmTkHBJfesLFxW3ETJ',\n",
       "  'xpub': 'xpub6HHeufCoUGtJnd6H673J8kydz7e55W1QZExEiwiGVyfKFMCv5ayV5jZgMHLGMhZAc35QrwBpUGgoyULLXzz3NpuAPtLnwCSoYJyvGQbiZQL',\n",
       "  'privkey': '0xc7a5b67680278e52fa39a37d7aec7ad8cedb590d424720fcf8366f2ca2e3882d',\n",
       "  'pubkey': '034d46f291221ac76ac8a675928113fca68d2b25c643029db584dcc9252286fe9c',\n",
       "  'pubkeyhash': 'e3a284fa36e268232fba94dd056eef8d9875c9a1',\n",
       "  'index': 0},\n",
       " {'path': \"m/44'/60'/0'/0/1\",\n",
       "  'address': '0xB61D6675b8639F2f9d6907E51F708d8b7eB2ff5D',\n",
       "  'xprv': 'xprvA4JJW9fuduL1cNnYGcQ6Wnj5CUUxrUUga5ZdbttjFZuX2qrfU6djrzfkzqwspLK9Gg5mJa6ZMyBY4cPtVjcoV1d7KpeQWWR2i1sKzYJrEna',\n",
       "  'xpub': 'xpub6HHeufCoUGtJprs1Ndw6svfokWKTFwCXwJVEQHJLouSVueBp1dwzQnzEr9pz9ixPaFuRLyvvRhUPQ1R4akEZ21xxJqE9JLq47pLfgFnFr7y',\n",
       "  'privkey': '0x0e7db6b9f9623b3f7078c256677e9904b6a249f4e0b7c2a6da8a553a69273e93',\n",
       "  'pubkey': '0385ec299f8c14a9fa279238a3bb6fbbb1fab4030ecfb09d569ada5582279898d3',\n",
       "  'pubkeyhash': 'f2bd99a06ff1c594a185f0395bdceb4938ae853e',\n",
       "  'index': 1},\n",
       " {'path': \"m/44'/60'/0'/0/2\",\n",
       "  'address': '0x9458a9c959666493C7516a82AD5199236F818a35',\n",
       "  'xprv': 'xprvA4JJW9fuduL1dzeFZxYNgc421tert8f16npK5NGqKafVBFcYUqNNPVCc1nEsvRPsRaxcaC1GpNZgtDgCdkkxV56C19YfN2KtNGp1SDsNpeH',\n",
       "  'xpub': 'xpub6HHeufCoUGtJrUiifz5P3jzkZvVMHbNrU1juskgSsvCU43wh2NgcwHX5s3KGkNrWnAtsCDspALpeKYsrEtycU32h4DBVJB1GA55VeqakhTf',\n",
       "  'privkey': '0xb75ee233cf40fd8e97900d689efecd1dfbd2cec7ac2cf052eb4f9a4d4f884dc1',\n",
       "  'pubkey': '02bd5617b63b41ac2de2d9bc875d35180585483a2b9ce66a9a99420724fb16b7c4',\n",
       "  'pubkeyhash': 'fab8edc2409910dd9ce49572f895803e8e2ffbd1',\n",
       "  'index': 2}]"
      ]
     },
     "execution_count": 28,
     "metadata": {},
     "output_type": "execute_result"
    }
   ],
   "source": [
    "# test the function \n",
    "derive_wallets(mnemonic,ETH,3) "
   ]
  },
  {
   "cell_type": "code",
   "execution_count": 29,
   "metadata": {},
   "outputs": [],
   "source": [
    "# Create an object\n",
    "coins = { 'ETH' : derive_wallets(mnemonic,ETH, 3),\n",
    "         'btc-test' : derive_wallets(mnemonic,BTCTEST, 3)}"
   ]
  },
  {
   "cell_type": "code",
   "execution_count": 30,
   "metadata": {},
   "outputs": [
    {
     "data": {
      "text/plain": [
       "{'path': \"m/44'/1'/0'/0/1\",\n",
       " 'address': 'mrGsVCNXohNcGn5DJdp8cFhhhm6a4cXHTL',\n",
       " 'xprv': 'tprv8juakpxfxsxJso14iHqxuWxway2XeTHTzTG9hkPtEM6tMMhR2CPoFxBbrBUWnfNMCMkhNvhM9rWoUfEf6h6GU2qFKDhUfMx7cjWQUkK4LV2',\n",
       " 'xpub': 'tpubDGbcuEzv7FdymG2rbwWZJvd49zYTonUNZkrvzGSBecuHBqxBebDPSSoU2MdFhySAW5yTVv9CjreRhnC3r3W363xrYddUNhcMayQK5Axo6ha',\n",
       " 'privkey': 'cNfTo7QZbHxeiFUvgsyNP96kCn1YXmTMNDLaQxna57iY7a9MhQMg',\n",
       " 'pubkey': '03c644babaecd33285e4c3f825b7f73366a1db94957b4e436b36946aeca81da157',\n",
       " 'pubkeyhash': '75ff8bf7136ec3cda6788db052c7d3fc786f8db9',\n",
       " 'index': 1}"
      ]
     },
     "execution_count": 30,
     "metadata": {},
     "output_type": "execute_result"
    }
   ],
   "source": [
    "# test the object\n",
    "coins['btc-test'][1]"
   ]
  },
  {
   "cell_type": "code",
   "execution_count": 31,
   "metadata": {},
   "outputs": [],
   "source": [
    "# create a function that convert the privkey string in a child key to an account object.\n",
    "def priv_key_to_account(coin,priv_key):\n",
    "    print(coin)\n",
    "    print(priv_key)\n",
    "    if coin == ETH:\n",
    "        return Account.privateKeyToAccount(priv_key)\n",
    "    elif coin == BTCTEST:\n",
    "        return PrivateKeyTestnet(priv_key)"
   ]
  },
  {
   "cell_type": "code",
   "execution_count": 57,
   "metadata": {},
   "outputs": [],
   "source": [
    "# create function for raw transaction \n",
    "def create_tx(coin,account, recipient, amount):\n",
    "    if coin == ETH: \n",
    "        gasEstimate = w3.eth.estimateGas(\n",
    "            {\"from\":eth_acc.address, \"to\":recipient, \"value\": amount}\n",
    "        )\n",
    "        return { \n",
    "            \"from\": eth_acc.address,\n",
    "            \"to\": recipient,\n",
    "            \"value\": amount,\n",
    "            \"gasPrice\": w3.eth.gasPrice,\n",
    "            \"gas\": gasEstimate,\n",
    "            \"nonce\": w3.eth.getTransactionCount(eth_acc.address)\n",
    "        }\n",
    "    \n",
    "    elif coin == BTCTEST:\n",
    "        return PrivateKeyTestnet.prepare_transaction(account.address, [(recipient, amount, BTC)])\n",
    "    \n"
   ]
  },
  {
   "cell_type": "code",
   "execution_count": 63,
   "metadata": {},
   "outputs": [
    {
     "name": "stdout",
     "output_type": "stream",
     "text": [
      "eth\n",
      "0xc7a5b67680278e52fa39a37d7aec7ad8cedb590d424720fcf8366f2ca2e3882d\n",
      "<eth_account.signers.local.LocalAccount object at 0x111e2d890>\n"
     ]
    }
   ],
   "source": [
    "# create a function to hold Ethereum \n",
    "eth_acc = priv_key_to_account(ETH, derive_wallets(mnemonic, ETH,5)[0]['privkey'])\n"
   ]
  },
  {
   "cell_type": "code",
   "execution_count": 61,
   "metadata": {},
   "outputs": [],
   "source": [
    "# create a function to send txn\n",
    "def send_txn(coin,account,recipient, amount):\n",
    "    txn = create_tx(coin, account, recipient, amount)\n",
    "    if coin == ETH:\n",
    "        signed_txn = eth_acc.sign_transaction(txn)\n",
    "        result = w3.eth.sendRawTransaction(signed_txn.rawTransaction)\n",
    "        return result.hex()\n",
    "    elif coin == BTCTEST:\n",
    "        signed_txn = account.sign_transaction(txn)\n",
    "        return NetworkAPI.broadcast_tx_testnet(signed_txn)\n",
    "\n"
   ]
  },
  {
   "cell_type": "code",
   "execution_count": 62,
   "metadata": {},
   "outputs": [
    {
     "data": {
      "text/plain": [
       "'0xa166d561338021b312410565cee718d811060a1d169ca0d9b456f64d9971bd81'"
      ]
     },
     "execution_count": 62,
     "metadata": {},
     "output_type": "execute_result"
    }
   ],
   "source": [
    "#use the send_txn function to send transactions \n",
    "send_txn(ETH,eth_acc,'0xB61D6675b8639F2f9d6907E51F708d8b7eB2ff5D',687658768765876784)\n"
   ]
  },
  {
   "cell_type": "code",
   "execution_count": null,
   "metadata": {},
   "outputs": [],
   "source": []
  }
 ],
 "metadata": {
  "kernelspec": {
   "display_name": "Python 3",
   "language": "python",
   "name": "python3"
  },
  "language_info": {
   "codemirror_mode": {
    "name": "ipython",
    "version": 3
   },
   "file_extension": ".py",
   "mimetype": "text/x-python",
   "name": "python",
   "nbconvert_exporter": "python",
   "pygments_lexer": "ipython3",
   "version": "3.7.7"
  }
 },
 "nbformat": 4,
 "nbformat_minor": 4
}
